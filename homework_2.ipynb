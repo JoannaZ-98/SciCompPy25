{
 "cells": [
  {
   "cell_type": "markdown",
   "metadata": {},
   "source": [
    "#### EXERCISE 2.1\n",
    "\n",
    "Create a long positive integer. Find the number of zeros. Hint: change the number to a string. "
   ]
  },
  {
   "cell_type": "code",
   "execution_count": 1,
   "metadata": {},
   "outputs": [
    {
     "data": {
      "text/plain": [
       "5"
      ]
     },
     "execution_count": 1,
     "metadata": {},
     "output_type": "execute_result"
    }
   ],
   "source": [
    "my_int = 120587367102983023571105183460\n",
    "no_0 = 0\n",
    "for i in str(my_int):\n",
    "    if i == \"0\":\n",
    "        no_0 += 1\n",
    "\n",
    "no_0"
   ]
  },
  {
   "cell_type": "markdown",
   "metadata": {},
   "source": [
    "#### EXERCISE 2.2 (BOOL)\n",
    "\n",
    "Explain the results.  \n",
    "x = 5  \n",
    "1\\) x == 5 and 3 + 8   # 11  \n",
    "2\\) x == 4 and 3 + 8   # False  \n",
    "3\\) 3 + 8 and x == 5   # True  \n",
    "4\\) 3 + 8 and x == 4   # False  \n",
    "  \n",
    "5\\) isinstance(True, int)    # True  \n",
    "6\\) isinstance(True, bool)   # True  "
   ]
  },
  {
   "cell_type": "markdown",
   "metadata": {},
   "source": [
    "##### Ex 2.2 - answer\n",
    "1\\) x == 5 returns \"True\", so the expression becomes \"True and 3+8\" - 3+8 is checked and yields the result, 11.  \n",
    "2\\) x == 4 returns \"False\" (because of the original assignment x = 5), so the latter expression is not checked and the result is \"False\".  \n",
    "3\\) \"3+8\" returns 11, which after being tested for truth value gives \"True\", so the expression becomes \"True and True\", which is of course True  \n",
    "4\\) \"3+8\" becomes True as in the above example, but x is not 4 - so we obtain \"True and False\", which results in \"False\"  \n",
    "  \n",
    "5\\) and 6) - since True and False are instances of bool class, 6 is True. Since every boolean is inherited from int class, it is also True that True is int (5).  "
   ]
  },
  {
   "cell_type": "markdown",
   "metadata": {},
   "source": [
    "#### EXERCISE 2.3 (NUMBERS)\n",
    "\n",
    "Find the sum 1\\*1 + 3\\*3 + 5\\*5 + ... + 2021\\*2021 [hint: use sum() and range()]. "
   ]
  },
  {
   "cell_type": "code",
   "execution_count": 70,
   "metadata": {},
   "outputs": [
    {
     "name": "stdout",
     "output_type": "stream",
     "text": [
      "sum = 1377818771\n"
     ]
    }
   ],
   "source": [
    "my_sum = 0\n",
    "for i in range(1,2022,2):\n",
    "    my_sum += i**2\n",
    "\n",
    "print(f\"sum = {my_sum}\")"
   ]
  },
  {
   "cell_type": "markdown",
   "metadata": {},
   "source": [
    "#### EXERCISE 2.4 (STR)\n",
    "  \n",
    "(a) Find Unicode code points (int) for all characters of your name.  \n",
    "Example: \"Andrzej\" --> [65, 110, 100, 114, 122, 101, 106]  \n",
    "  \n",
    "(b) Prepare the periodic table (ten elements) as a list  \n",
    "pt = [(1,\"Hydrogen\",\"H\",1), (2,\"Helium\",\"He\",4), ...].  \n",
    "Use pt to print a table (3 right + 20 left + 6 center + 10 right)  \n",
    "+---+--------------------+------+----------+  \n",
    "|No.|Name (en)           |Symbol|Weight (u)|  \n",
    "+---+--------------------+------+----------+  \n",
    "|  1|Hydrogen            |  H   |         1|  \n",
    "|  2|Helium              |  He  |         4|  \n",
    "|   | ...                |      |          |  \n",
    "+---+--------------------+------+----------+  \n",
    "Hint: use the for loop:  \n",
    "for (n, name, symbol, weight) in pt:  \n",
    "    # use variables (n, name, symbol, weight) to create a proper line  \n"
   ]
  },
  {
   "cell_type": "code",
   "execution_count": 9,
   "metadata": {},
   "outputs": [
    {
     "data": {
      "text/plain": [
       "[74, 111, 97, 110, 110, 97]"
      ]
     },
     "execution_count": 9,
     "metadata": {},
     "output_type": "execute_result"
    }
   ],
   "source": [
    "name = \"Joanna\"\n",
    "name = name.encode('utf-8')\n",
    "list(name)"
   ]
  },
  {
   "cell_type": "code",
   "execution_count": 16,
   "metadata": {},
   "outputs": [
    {
     "name": "stdout",
     "output_type": "stream",
     "text": [
      "+---+--------------------+------+----------+\n",
      "|No.|Name (en)           |Symbol|Weight (u)|\n",
      "+---+--------------------+------+----------+\n",
      "|  1|Hydrogen            |  H   |         1|\n",
      "|  2|Helium              |  He  |         4|\n",
      "|  3|Lithium             |  Li  |         7|\n",
      "|  4|Beryllium           |  Be  |         9|\n",
      "|  5|Boron               |  B   |        11|\n",
      "|  6|Carbon              |  C   |        12|\n",
      "|  7|Nitrogen            |  N   |        14|\n",
      "|  8|Oxygen              |  O   |        16|\n",
      "|  9|Fluorine            |  F   |        19|\n",
      "| 10|Neon                |  Ne  |        20|\n",
      "+---+--------------------+------+----------+\n"
     ]
    }
   ],
   "source": [
    "pt = [(1, \"Hydrogen\", \"H\", 1), (2, \"Helium\", \"He\", 4), (3, \"Lithium\", \"Li\", 7),\n",
    "    (4, \"Beryllium\", \"Be\", 9), (5, \"Boron\", \"B\", 11), (6, \"Carbon\", \"C\", 12),\n",
    "    (7, \"Nitrogen\", \"N\", 14), (8, \"Oxygen\", \"O\", 16), (9, \"Fluorine\", \"F\", 19),\n",
    "    (10, \"Neon\", \"Ne\", 20)]\n",
    "\n",
    "print(\"+---+--------------------+------+----------+\")\n",
    "print(\"|No.|Name (en)           |Symbol|Weight (u)|\")\n",
    "print(\"+---+--------------------+------+----------+\")\n",
    "for (n, name, symbol, weight) in pt:\n",
    "    print(f\"|{str(n).rjust(3)}|\", name.ljust(20), f\"|{symbol.center(6)}|\", f\"{str(weight).rjust(10)}|\", sep=\"\")\n",
    "print(\"+---+--------------------+------+----------+\")"
   ]
  },
  {
   "cell_type": "markdown",
   "metadata": {},
   "source": [
    "#### EXERCISE 2.5 (LIST)\n",
    "\n",
    "Let S be a long string (many lines).  \n",
    "\n",
    "Find the number of black characters in S [not whitespace, see the method S.isspace()].  \n",
    "\n",
    "Find the number of words in S (a word is a sequence of black characters).  \n",
    "\n",
    "Find the longest word in S.  \n",
    "\n",
    "Sort words from S according to (1) the lexicographic order, (2) the length.   "
   ]
  },
  {
   "cell_type": "code",
   "execution_count": 76,
   "metadata": {},
   "outputs": [
    {
     "name": "stdout",
     "output_type": "stream",
     "text": [
      "number of black characters = 613\n",
      "number of words = 110\n",
      "longert word in S: pellentesque\n",
      "words from S in lexicographic order: ['a', 'a', 'ac', 'accumsan', 'adipiscing', 'aliquam', 'Aliquam', 'amet', 'amet', 'amet', 'arcu', 'arcu', 'at', 'at', 'bibendum', 'consectetur', 'consequat', 'Cras', 'dapibus', 'dapibus', 'dolor', 'dolor', 'eget', 'eget', 'eget', 'eget', 'eget', 'eget', 'elit', 'eros', 'eu', 'eu', 'ex', 'faucibus', 'felis', 'fermentum', 'gravida', 'in', 'Integer', 'interdum', 'interdum', 'ipsum', 'justo', 'lacus', 'lacus', 'laoreet', 'laoreet', 'lectus', 'lectus', 'leo', 'Lorem', 'Maecenas', 'mauris', 'maximus', 'molestie', 'Nam', 'nibh', 'nisi', 'nisi', 'nisl', 'nisl', 'non', 'non', 'non', 'Nulla', 'nulla', 'Nullam', 'Nunc', 'pellentesque', 'posuere', 'posuere', 'posuere', 'Praesent', 'pretium', 'purus', 'quam', 'risus', 'rutrum', 'sapien', 'sed', 'Sed', 'Sed', 'sem', 'sem', 'sit', 'sit', 'sit', 'sodales', 'sollicitudin', 'tellus', 'tempus', 'tincidunt', 'tortor', 'tortor', 'tortor', 'turpis', 'ultrices', 'urna', 'Ut', 'ut', 'vehicula', 'vehicula', 'vehicula', 'vel', 'vel', 'vestibulum', 'vitae', 'viverra', 'viverra', 'vulputate']\n",
      "words from S in length order: ['a', 'a', 'Ut', 'ut', 'eu', 'ac', 'at', 'in', 'eu', 'ex', 'at', 'sit', 'sem', 'Nam', 'sit', 'sed', 'Sed', 'non', 'vel', 'non', 'non', 'sem', 'sit', 'Sed', 'leo', 'vel', 'amet', 'elit', 'eget', 'arcu', 'amet', 'eget', 'urna', 'quam', 'Nunc', 'eget', 'nisi', 'nisl', 'nibh', 'Cras', 'eros', 'eget', 'arcu', 'eget', 'amet', 'nisi', 'eget', 'nisl', 'Lorem', 'ipsum', 'dolor', 'purus', 'lacus', 'felis', 'justo', 'lacus', 'vitae', 'risus', 'Nulla', 'dolor', 'nulla', 'turpis', 'Nullam', 'lectus', 'tortor', 'mauris', 'tempus', 'tortor', 'sapien', 'tellus', 'tortor', 'rutrum', 'lectus', 'pretium', 'viverra', 'gravida', 'maximus', 'viverra', 'posuere', 'Integer', 'laoreet', 'aliquam', 'dapibus', 'posuere', 'posuere', 'sodales', 'Aliquam', 'laoreet', 'dapibus', 'interdum', 'ultrices', 'accumsan', 'vehicula', 'vehicula', 'bibendum', 'vehicula', 'molestie', 'Maecenas', 'Praesent', 'interdum', 'faucibus', 'vulputate', 'tincidunt', 'consequat', 'fermentum', 'adipiscing', 'vestibulum', 'consectetur', 'pellentesque', 'sollicitudin']\n"
     ]
    }
   ],
   "source": [
    "S = \"\"\"Lorem ipsum dolor sit amet, consectetur adipiscing elit. Ut pellentesque interdum turpis, \n",
    "a pretium sem viverra ut. Nullam eget arcu eu purus ultrices gravida. Nam maximus, lacus \n",
    "sit amet vulputate viverra, lectus tortor posuere mauris, eget tempus urna felis sed quam. \n",
    "Integer accumsan laoreet aliquam. Nunc justo lacus, dapibus ac tincidunt at, posuere eget \n",
    "tortor. Sed non nisi in nisl vehicula posuere vel vitae nibh. Cras vehicula risus sapien, \n",
    "a bibendum tellus sodales eu. Aliquam vehicula eros non ex vestibulum, eget sollicitudin \n",
    "arcu consequat. Nulla eget molestie dolor, non laoreet sem. Maecenas at tortor nulla. \n",
    "Praesent sit amet rutrum nisi. Sed interdum leo eget nisl faucibus, vel fermentum lectus dapibus.\"\"\"\n",
    "\n",
    "\n",
    "bl_chars = 0\n",
    "for i in S:\n",
    "    if not i.isspace():\n",
    "        bl_chars += 1\n",
    "\n",
    "\n",
    "S_list = S.strip().split()\n",
    "S_list = [i.replace(\",\", \"\").replace(\".\", \"\") for i in S_list]\n",
    "\n",
    "no_words = len(S_list)\n",
    "longest = sorted(S_list, key=len, reverse=True)[0]\n",
    "\n",
    "S_lex = sorted(S_list, key=str.lower)\n",
    "S_len = sorted(S_list, key=len)\n",
    "\n",
    "print(f\"number of black characters = {bl_chars}\\nnumber of words = {no_words}\")\n",
    "print(f\"longert word in S: {longest}\")\n",
    "print(f\"words from S in lexicographic order: {S_lex}\")\n",
    "print(f\"words from S in length order: {S_len}\")\n"
   ]
  },
  {
   "cell_type": "markdown",
   "metadata": {},
   "source": [
    "#### EXERCISE 2.6 (TUPLE)\n",
    "\n",
    "Find and explain the results.  \n",
    "t = (2, 4)  \n",
    "print(t[2])  \n",
    "t.append(6)  \n",
    "a, b = t ; print(a, b)  \n"
   ]
  },
  {
   "cell_type": "code",
   "execution_count": 7,
   "metadata": {},
   "outputs": [
    {
     "ename": "IndexError",
     "evalue": "tuple index out of range",
     "output_type": "error",
     "traceback": [
      "\u001b[1;31m---------------------------------------------------------------------------\u001b[0m",
      "\u001b[1;31mIndexError\u001b[0m                                Traceback (most recent call last)",
      "Cell \u001b[1;32mIn[7], line 2\u001b[0m\n\u001b[0;32m      1\u001b[0m t \u001b[38;5;241m=\u001b[39m (\u001b[38;5;241m2\u001b[39m,\u001b[38;5;241m4\u001b[39m)\n\u001b[1;32m----> 2\u001b[0m \u001b[38;5;28mprint\u001b[39m(t[\u001b[38;5;241m2\u001b[39m])\n",
      "\u001b[1;31mIndexError\u001b[0m: tuple index out of range"
     ]
    }
   ],
   "source": [
    "t = (2,4)\n",
    "print(t[2])"
   ]
  },
  {
   "cell_type": "markdown",
   "metadata": {},
   "source": [
    "Explanation: [2] indicates the third position, while the tuple t only contains two items - hence the error"
   ]
  },
  {
   "cell_type": "code",
   "execution_count": null,
   "metadata": {},
   "outputs": [
    {
     "ename": "AttributeError",
     "evalue": "'tuple' object has no attribute 'append'",
     "output_type": "error",
     "traceback": [
      "\u001b[1;31m---------------------------------------------------------------------------\u001b[0m",
      "\u001b[1;31mAttributeError\u001b[0m                            Traceback (most recent call last)",
      "Cell \u001b[1;32mIn[6], line 1\u001b[0m\n\u001b[1;32m----> 1\u001b[0m t\u001b[38;5;241m.\u001b[39mappend(\u001b[38;5;241m6\u001b[39m)\n",
      "\u001b[1;31mAttributeError\u001b[0m: 'tuple' object has no attribute 'append'"
     ]
    }
   ],
   "source": [
    "t.append(6)"
   ]
  },
  {
   "cell_type": "markdown",
   "metadata": {},
   "source": [
    "Explanation: tuples are immutable, so once they're defined, we cannot change them in any way (i.e. by appending)"
   ]
  },
  {
   "cell_type": "code",
   "execution_count": 10,
   "metadata": {},
   "outputs": [
    {
     "name": "stdout",
     "output_type": "stream",
     "text": [
      "2 4\n"
     ]
    }
   ],
   "source": [
    "a, b = t\n",
    "print(a, b)"
   ]
  },
  {
   "cell_type": "markdown",
   "metadata": {},
   "source": [
    "Explanation: tuple t contains two items (ints 2 and 4), and by passing \"a, b = t\" we assign values of those items to two new variables - a and b. "
   ]
  },
  {
   "cell_type": "markdown",
   "metadata": {},
   "source": [
    "#### EXERCISE 2.7 (DICT)\n",
    "\n",
    "Create a dict for conversion of roman numerals/strings (I, IV, V, IX, X, XL, L, XC, C, CD, D, CM, M) to arabic numbers. Use different methods. "
   ]
  },
  {
   "cell_type": "code",
   "execution_count": 100,
   "metadata": {},
   "outputs": [
    {
     "name": "stdout",
     "output_type": "stream",
     "text": [
      "{'I': 1, 'V': 5, 'X': 10, 'L': 50, 'C': 100, 'D': 500, 'M': 1000, 'IV': 4, 'IX': 9, 'XL': 40, 'XC': 90, 'CD': 400, 'CM': 900}\n"
     ]
    }
   ],
   "source": [
    "rom_to_ara = {\"I\": 1, \"V\": 5, \"X\": 10, \"L\": 50, \"C\": 100, \"D\": 500, \"M\": 1000}\n",
    "rom_to_ara[\"IV\"] = 4\n",
    "more_roman = dict([(\"IX\", 9), (\"XL\", 40), (\"XC\", 90), (\"CD\", 400), (\"CM\", 900)])\n",
    "rom_to_ara.update(more_roman)\n",
    "print(rom_to_ara)\n"
   ]
  }
 ],
 "metadata": {
  "kernelspec": {
   "display_name": "Python 3",
   "language": "python",
   "name": "python3"
  },
  "language_info": {
   "codemirror_mode": {
    "name": "ipython",
    "version": 3
   },
   "file_extension": ".py",
   "mimetype": "text/x-python",
   "name": "python",
   "nbconvert_exporter": "python",
   "pygments_lexer": "ipython3",
   "version": "3.12.7"
  }
 },
 "nbformat": 4,
 "nbformat_minor": 2
}
