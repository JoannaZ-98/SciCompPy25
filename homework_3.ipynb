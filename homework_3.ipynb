{
 "cells": [
  {
   "cell_type": "markdown",
   "metadata": {},
   "source": [
    "#### EXERCISE 3.1  \n",
    "  \n",
    "For a given word (you may use your name), print it in squares.  \n",
    "If word = \"Python\", then the result is\n",
    "<pre>  \n",
    "+---+---+---+---+---+---+  \n",
    "| P | y | t | h | o | n |  \n",
    "+---+---+---+---+---+---+  \n",
    "</pre>"
   ]
  },
  {
   "cell_type": "code",
   "execution_count": 40,
   "metadata": {},
   "outputs": [
    {
     "name": "stdout",
     "output_type": "stream",
     "text": [
      "+---+---+---+---+---+---+\n",
      "| J | o | a | n | n | a |\n",
      "+---+---+---+---+---+---+\n"
     ]
    }
   ],
   "source": [
    "word = input(\"What word would you like to frame?\")\n",
    "\n",
    "bord_elem = \"+---\"\n",
    "borderline = bord_elem*len(word) + \"+\"\n",
    "\n",
    "letters = [i for i in word]\n",
    "bordered_letters = \" | \".join(letters)\n",
    "bordered_letters = \"| \" + bordered_letters + \" |\"\n",
    "\n",
    "print(borderline, bordered_letters, borderline, sep=\"\\n\")\n"
   ]
  },
  {
   "cell_type": "markdown",
   "metadata": {},
   "source": [
    "#### EXERCISE 3.2  \n",
    "  \n",
    "Make a loop over integer numbers from 1 to 40.  \n",
    "If x is divided by 5 then print a message 'x is divided by 5'.  \n",
    "If x is divided by 7 then print a message 'x is divided by 7'.  \n",
    "If x is divided by 5 and 7 then print a message 'x is divided by 5 and 7'.  \n",
    "Skip x = 13.  \n",
    "If x is not divided by 5 and x is not divided by 7   \n",
    "then print a message 'x is not important'.  \n",
    "Prepare two solutions with 'while' and 'for' loops.  \n"
   ]
  },
  {
   "cell_type": "code",
   "execution_count": null,
   "metadata": {},
   "outputs": [
    {
     "name": "stdout",
     "output_type": "stream",
     "text": [
      "0 is divided by 5 and 7.\n",
      "1 is not important.\n",
      "2 is not important.\n",
      "3 is not important.\n",
      "4 is not important.\n",
      "5 is divided by 5.\n",
      "6 is not important.\n",
      "7 is divided by 7.\n",
      "8 is not important.\n",
      "9 is not important.\n",
      "10 is divided by 5.\n",
      "11 is not important.\n",
      "12 is not important.\n",
      "14 is divided by 7.\n",
      "15 is divided by 5.\n",
      "16 is not important.\n",
      "17 is not important.\n",
      "18 is not important.\n",
      "19 is not important.\n",
      "20 is divided by 5.\n",
      "21 is divided by 7.\n",
      "22 is not important.\n",
      "23 is not important.\n",
      "24 is not important.\n",
      "25 is divided by 5.\n",
      "26 is not important.\n",
      "27 is not important.\n",
      "28 is divided by 7.\n",
      "29 is not important.\n",
      "30 is divided by 5.\n",
      "31 is not important.\n",
      "32 is not important.\n",
      "33 is not important.\n",
      "34 is not important.\n",
      "35 is divided by 5 and 7.\n",
      "36 is not important.\n",
      "37 is not important.\n",
      "38 is not important.\n",
      "39 is not important.\n",
      "40 is divided by 5.\n"
     ]
    }
   ],
   "source": [
    "for i in range(41):\n",
    "    if i == 13:\n",
    "        continue\n",
    "    if i%5 == 0:\n",
    "        if i%7 == 0:\n",
    "            print(f\"{i} is divided by 5 and 7.\")\n",
    "        else:\n",
    "            print(f\"{i} is divided by 5.\")\n",
    "    elif i%7 == 0:\n",
    "        print(f\"{i} is divided by 7.\")\n",
    "    else:\n",
    "        print(f\"{i} is not important.\")"
   ]
  },
  {
   "cell_type": "code",
   "execution_count": null,
   "metadata": {},
   "outputs": [
    {
     "name": "stdout",
     "output_type": "stream",
     "text": [
      "0 is divided by 5 and 7.\n",
      "1 is not important.\n",
      "2 is not important.\n",
      "3 is not important.\n",
      "4 is not important.\n",
      "5 is divided by 5.\n",
      "6 is not important.\n",
      "7 is divided by 7.\n",
      "8 is not important.\n",
      "9 is not important.\n",
      "10 is divided by 5.\n",
      "11 is not important.\n",
      "12 is not important.\n",
      "14 is divided by 7.\n",
      "15 is divided by 5.\n",
      "16 is not important.\n",
      "17 is not important.\n",
      "18 is not important.\n",
      "19 is not important.\n",
      "20 is divided by 5.\n",
      "21 is divided by 7.\n",
      "22 is not important.\n",
      "23 is not important.\n",
      "24 is not important.\n",
      "25 is divided by 5.\n",
      "26 is not important.\n",
      "27 is not important.\n",
      "28 is divided by 7.\n",
      "29 is not important.\n",
      "30 is divided by 5.\n",
      "31 is not important.\n",
      "32 is not important.\n",
      "33 is not important.\n",
      "34 is not important.\n",
      "35 is divided by 5 and 7.\n",
      "36 is not important.\n",
      "37 is not important.\n",
      "38 is not important.\n",
      "39 is not important.\n",
      "40 is divided by 5.\n"
     ]
    }
   ],
   "source": [
    "i=0\n",
    "while i < 41:\n",
    "    if i == 13:\n",
    "        i += 1\n",
    "    if i%5 == 0:\n",
    "        if i%7 == 0:\n",
    "            print(f\"{i} is divided by 5 and 7.\")\n",
    "        else:\n",
    "            print(f\"{i} is divided by 5.\")\n",
    "    elif i%7 == 0:\n",
    "        print(f\"{i} is divided by 7.\")\n",
    "    else:\n",
    "        print(f\"{i} is not important.\")\n",
    "    i += 1"
   ]
  },
  {
   "cell_type": "markdown",
   "metadata": {},
   "source": [
    "#### EXERCISE 3.3  \n",
    "  \n",
    "Create the following variables:  \n",
    "n = 2022  \n",
    "x = math.pi   # save with 5 digits after a dot (import 'math' first!)  \n",
    "word = \"Python\"  \n",
    "polish = \"książka\"   # 'book' in English  \n",
    "Write the variables to a text file \"vars.txt\",  \n",
    "one line for one variable.  \n",
    "Print the file content on the screen.  \n"
   ]
  },
  {
   "cell_type": "code",
   "execution_count": 3,
   "metadata": {},
   "outputs": [
    {
     "name": "stdout",
     "output_type": "stream",
     "text": [
      "2022\n",
      "3.14159\n",
      "Python\n",
      "książka\n",
      "\n"
     ]
    }
   ],
   "source": [
    "import math\n",
    "\n",
    "n = 2022\n",
    "x = round(math.pi, 5)\n",
    "word = \"Python\"\n",
    "polish = \"książka\"\n",
    "\n",
    "writeset = (n, x, word, polish)\n",
    "\n",
    "with open(\"outfile.txt\", 'w') as f:\n",
    "    for i in writeset:\n",
    "        f.write(\"{}\\n\".format(i))\n",
    "\n",
    "readfile = open(\"outfile.txt\", \"r\").read()\n",
    "print(readfile)"
   ]
  }
 ],
 "metadata": {
  "kernelspec": {
   "display_name": "Python 3",
   "language": "python",
   "name": "python3"
  },
  "language_info": {
   "codemirror_mode": {
    "name": "ipython",
    "version": 3
   },
   "file_extension": ".py",
   "mimetype": "text/x-python",
   "name": "python",
   "nbconvert_exporter": "python",
   "pygments_lexer": "ipython3",
   "version": "3.12.7"
  }
 },
 "nbformat": 4,
 "nbformat_minor": 2
}
