{
 "cells": [
  {
   "cell_type": "markdown",
   "metadata": {},
   "source": [
    "EXERCISE 4.1  \n",
    "  \n",
    "Let p=(x,y) be a point in a plane. Define the following functions using lambda:  \n",
    "(a) a test if p is in unit (filled) circle,  \n",
    "(b) a test if the coordinates of p are positive,  \n",
    "(c) a sorting key (y decreasing, x increasing),  \n",
    "(d) a sorting key (the sum |x|+|y|).  \n",
    "\n",
    "Using tests: list(filter((lambda p: ...), point_list))  \n",
    "Using sorting keys: point_list.sort(key=lambda p: ...)  \n"
   ]
  },
  {
   "cell_type": "code",
   "execution_count": 44,
   "metadata": {},
   "outputs": [
    {
     "name": "stdout",
     "output_type": "stream",
     "text": [
      "points inside circle:\n",
      " [(-0.6248848791177286, -0.4606543463463113), (-0.6420776210255266, -0.3955235646806494), (0.1081200220630325, -0.062478361459708864), (-0.431538211072519, 0.8430990144237909), (-0.7100779508275032, 0.08902218985898425), (-0.6329219750113366, 0.22504930607195983), (-0.575479990523678, -0.6689521781092036)]\n",
      "points with positive coordinates:\n",
      " [(0.6802685833760966, 0.8127095580602792)]\n",
      "y decreasing, x increasing:\n",
      " [(-0.3065071918556852, 0.9873960112983067), (-0.431538211072519, 0.8430990144237909), (0.6802685833760966, 0.8127095580602792), (-0.6329219750113366, 0.22504930607195983), (-0.7100779508275032, 0.08902218985898425), (0.1081200220630325, -0.062478361459708864), (-0.6420776210255266, -0.3955235646806494), (-0.6248848791177286, -0.4606543463463113), (-0.575479990523678, -0.6689521781092036), (-0.8242541521546507, -0.7196394216215882)]\n",
      "by sum of absolute values:\n",
      " [(0.1081200220630325, -0.062478361459708864), (-0.7100779508275032, 0.08902218985898425), (-0.6329219750113366, 0.22504930607195983), (-0.6420776210255266, -0.3955235646806494), (-0.6248848791177286, -0.4606543463463113), (-0.575479990523678, -0.6689521781092036), (-0.431538211072519, 0.8430990144237909), (-0.3065071918556852, 0.9873960112983067), (0.6802685833760966, 0.8127095580602792), (-0.8242541521546507, -0.7196394216215882)]\n"
     ]
    }
   ],
   "source": [
    "import random\n",
    "\n",
    "L_p = []\n",
    "\n",
    "for i in range(10):\n",
    "    L_p.append((random.uniform(-1,1), random.uniform(-1,1)))\n",
    "\n",
    "in_circle = list(filter((lambda p: p[0]**2 + p[1]**2 <= 1), L_p))\n",
    "print(\"points inside circle:\\n\", in_circle)\n",
    "\n",
    "if_positive = list(filter(lambda p: p[0] > 0 and p[1] > 0, L_p))\n",
    "print(\"points with positive coordinates:\\n\", if_positive)\n",
    "\n",
    "L_p.sort(key = lambda p: (-p[1], p[0]))\n",
    "print(\"y decreasing, x increasing:\\n\", L_p)\n",
    "\n",
    "L_p.sort(key = lambda p: (abs(p[0])+abs(p[1])))\n",
    "print(\"by sum of absolute values:\\n\", L_p)"
   ]
  },
  {
   "cell_type": "markdown",
   "metadata": {},
   "source": [
    "EXERCISE 4.2  \n",
    "  \n",
    "Reversing a part of a list in place, reverse_range(L, left, right), the right index is included. Write iterative and recursive versions.  \n",
    "  \n",
    "\\# Example.  \n",
    "L = [0, 1, 2, 3, 4, 5, 6, 7, 8, 9]  \n",
    "reverse_range(L, 3, 6)   # index 6 is included!  \n",
    "print(L)   # [0, 1, 2, 6, 5, 4, 3, 7, 8, 9]   # the list L changed  \n",
    "\\# The numbers outside the range are intact.  \n"
   ]
  },
  {
   "cell_type": "code",
   "execution_count": 86,
   "metadata": {},
   "outputs": [
    {
     "name": "stdout",
     "output_type": "stream",
     "text": [
      "[0, 1, 2, 6, 5, 4, 3, 7, 8, 9]\n"
     ]
    }
   ],
   "source": [
    "L = [0, 1, 2, 3, 4, 5, 6, 7, 8, 9]\n",
    "\n",
    "def reverse_range(lst, fr, to):\n",
    "    tmp_list = lst[fr:to+1]\n",
    "    tmp_list.sort(reverse=True)\n",
    "    for i in range(to, fr-1, -1):\n",
    "        del lst[i]\n",
    "    for i, val in enumerate(tmp_list):\n",
    "        lst.insert(fr+i, val)\n",
    "    return lst\n",
    "\n",
    "print(reverse_range(L, 3, 6))\n"
   ]
  },
  {
   "cell_type": "code",
   "execution_count": null,
   "metadata": {},
   "outputs": [],
   "source": [
    "# I don't have any idea how to do it recursively, I'm sorry :( "
   ]
  },
  {
   "cell_type": "markdown",
   "metadata": {},
   "source": [
    "EXERCISE 4.3  \n",
    "  \n",
    "Create the following infinite generators:  \n",
    "(a) iter_even(), producing even numbers (0, 2, 4, ...),  \n",
    "(b) iter_odd(), producing odd numbers (1, 3, 5, ...),  \n",
    "(c) iter_power(k), producing powers of k (1, k, k*k, k*k*k, ...).   "
   ]
  },
  {
   "cell_type": "code",
   "execution_count": 90,
   "metadata": {},
   "outputs": [],
   "source": [
    "def iter_even():\n",
    "    i = 0\n",
    "    while True:\n",
    "        yield i\n",
    "        i += 2\n",
    "    \n",
    "def iter_odd():\n",
    "    i = 1\n",
    "    while True:\n",
    "        yield i\n",
    "        i += 2\n",
    "    \n",
    "def iter_power(k):\n",
    "    i = 0\n",
    "    while True:\n",
    "        yield k**i\n",
    "        i += 1"
   ]
  }
 ],
 "metadata": {
  "kernelspec": {
   "display_name": "Python 3",
   "language": "python",
   "name": "python3"
  },
  "language_info": {
   "codemirror_mode": {
    "name": "ipython",
    "version": 3
   },
   "file_extension": ".py",
   "mimetype": "text/x-python",
   "name": "python",
   "nbconvert_exporter": "python",
   "pygments_lexer": "ipython3",
   "version": "3.12.7"
  }
 },
 "nbformat": 4,
 "nbformat_minor": 2
}
