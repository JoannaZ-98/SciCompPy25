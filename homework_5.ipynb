{
 "cells": [
  {
   "cell_type": "markdown",
   "metadata": {},
   "source": [
    "#### EXERCISE 5.1  \n",
    "\n",
    "For a given directory (top) find the number of bytes taken by PDF files in the directory tree (\".pdf\" extensions). The code should be in the function find_pdf_size(top). In order to test the current directory we run find_pdf_size(\".\"). "
   ]
  },
  {
   "cell_type": "code",
   "execution_count": 53,
   "metadata": {},
   "outputs": [
    {
     "name": "stdout",
     "output_type": "stream",
     "text": [
      "2840872\n"
     ]
    }
   ],
   "source": [
    "import os\n",
    "\n",
    "def find_pdf_size(top):\n",
    "    pdfsize = 0\n",
    "    for root, dirs, files in os.walk(top):\n",
    "        for file in files:\n",
    "            if file.lower().endswith(\".pdf\"):\n",
    "                file_path = os.path.join(root, file)\n",
    "                pdfsize += os.path.getsize(file_path)\n",
    "    return pdfsize\n",
    "\n",
    "print(find_pdf_size(\".\"))"
   ]
  },
  {
   "cell_type": "markdown",
   "metadata": {},
   "source": [
    "#### EXERCISE 5.2\n",
    "\n",
    "Create the function print_working_days(date1, date2), where 'date1' and 'date2' are strings of the form 'YYYY-MM-DD'. The function prints dates of working days (from Monday to Friday) in the given range, 'date2' is excluded. "
   ]
  },
  {
   "cell_type": "code",
   "execution_count": 38,
   "metadata": {},
   "outputs": [
    {
     "name": "stdout",
     "output_type": "stream",
     "text": [
      "Working days between 2025-03-25 and 2025-04-08:\n",
      "2025-03-25\n",
      "2025-03-26\n",
      "2025-03-27\n",
      "2025-03-28\n",
      "2025-03-31\n",
      "2025-04-01\n",
      "2025-04-02\n",
      "2025-04-03\n",
      "2025-04-04\n",
      "2025-04-07\n"
     ]
    }
   ],
   "source": [
    "import datetime as dt\n",
    "\n",
    "# print(dt.date.fromisoformat(\"2025-04-01\").isoweekday())\n",
    "\n",
    "def print_working_days(date1, date2):\n",
    "    print(f\"Working days between {date1} and {date2}:\")\n",
    "    weekdays = range(0,5)\n",
    "    date1 = dt.date.fromisoformat(date1)\n",
    "    date2 = dt.date.fromisoformat(date2)\n",
    "    while date1 != date2:\n",
    "        if date1.weekday() in weekdays:\n",
    "            print(date1.isoformat())\n",
    "            date1 += dt.timedelta(days=1)\n",
    "        else:\n",
    "            date1 += dt.timedelta(days=2)\n",
    "\n",
    "print_working_days(\"2025-03-25\", \"2025-04-08\")"
   ]
  },
  {
   "cell_type": "markdown",
   "metadata": {},
   "source": [
    "#### EXERCISE 5.3  \n",
    "\n",
    "Create the generator random_walk(start) for a 1D random walker. If a position at a certain moment is x, then the next position can be x+1 or x-1 with equal probabilities. Find the final position after 100 moves (start=0). Repeat experiments. "
   ]
  },
  {
   "cell_type": "code",
   "execution_count": null,
   "metadata": {},
   "outputs": [
    {
     "name": "stdout",
     "output_type": "stream",
     "text": [
      "for 10 moves the final position is -6 and the average final position is -1.6\n",
      "for 100 moves the final position is 6 and the average final position is -1.54\n",
      "for 1000 moves the final position is 4 and the average final position is 0.344\n",
      "for 10000 moves the final position is 4 and the average final position is -0.0458\n",
      "\n",
      "Final positions after 100 moves for 10 additional tests:\n",
      "-12\n",
      "-2\n",
      "0\n",
      "2\n",
      "4\n",
      "8\n",
      "6\n",
      "6\n",
      "2\n",
      "2\n"
     ]
    }
   ],
   "source": [
    "import random\n",
    "\n",
    "for tot in [10, 100, 1000, 10000]:\n",
    "    end = []\n",
    "    n = 0\n",
    "    while n < tot:\n",
    "        pos = 0\n",
    "        i = 0\n",
    "        while i < 100:\n",
    "            pos += random.choice([-1, 1])\n",
    "            i += 1\n",
    "        end.append(int(pos))\n",
    "        n += 1\n",
    "    print(f\"for {tot} moves the final position is {pos} and the average final position is {sum(end)/len(end)}\")\n",
    "\n",
    "print(\"\\nFinal positions after 100 moves for 10 additional tests:\")\n",
    "for n in range(10):\n",
    "    i = 0\n",
    "    pos = 0\n",
    "    while i < 100:\n",
    "        pos += random.choice([-1,1])\n",
    "        i += 1\n",
    "    print(pos)\n"
   ]
  }
 ],
 "metadata": {
  "kernelspec": {
   "display_name": "Python 3",
   "language": "python",
   "name": "python3"
  },
  "language_info": {
   "codemirror_mode": {
    "name": "ipython",
    "version": 3
   },
   "file_extension": ".py",
   "mimetype": "text/x-python",
   "name": "python",
   "nbconvert_exporter": "python",
   "pygments_lexer": "ipython3",
   "version": "3.12.7"
  }
 },
 "nbformat": 4,
 "nbformat_minor": 2
}
