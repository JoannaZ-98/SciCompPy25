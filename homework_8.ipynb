{
 "cells": [
  {
   "cell_type": "markdown",
   "id": "19810ea4",
   "metadata": {},
   "source": [
    "EXERCISE 8.1\n",
    "\n",
    "Create the following NumPy arrays:  \n",
    "(a) float from 0.0 to 1.0 step 0.1, shape=(11,),   \n",
    "(b) int zeros (1 byte) with shape=(5,6),  \n",
    "(c) complex with shape=(9,), powers of x = complex(0, 1): 1, x, x**2, ..., x**8.   "
   ]
  },
  {
   "cell_type": "code",
   "execution_count": 36,
   "id": "9e8eb3cd",
   "metadata": {},
   "outputs": [
    {
     "name": "stdout",
     "output_type": "stream",
     "text": [
      "a =  [0.  0.1 0.2 0.3 0.4 0.5 0.6 0.7 0.8 0.9 1. ]\n",
      "b = \n",
      " [[0 0 0 0 0 0]\n",
      " [0 0 0 0 0 0]\n",
      " [0 0 0 0 0 0]\n",
      " [0 0 0 0 0 0]\n",
      " [0 0 0 0 0 0]]\n",
      "c =  [ 1.+0.j  0.+1.j -1.+0.j -0.-1.j  1.+0.j  0.+1.j -1.+0.j -0.-1.j  1.+0.j]\n"
     ]
    }
   ],
   "source": [
    "import numpy as np\n",
    "\n",
    "a = np.arange(0.0, 1.1, 0.1)\n",
    "print(\"a = \", a)\n",
    "\n",
    "\n",
    "b = np.zeros((5,6),dtype=\"b\")\n",
    "print(\"b = \\n\", b)\n",
    "\n",
    "x = complex(0,1)\n",
    "c = np.array([x**i for i in range(0,9)])\n",
    "print(\"c = \", c)"
   ]
  },
  {
   "cell_type": "markdown",
   "id": "977930ed",
   "metadata": {},
   "source": [
    "EXERCISE 8.2  \n",
    "\n",
    "(a) Create an arbitrary one dimensional array called v1.  \n",
    "(b) Create a new array (or a view) v2 which consists of items with odd indices of v1.  \n",
    "(c) Create a new array (or a view) v3 in backwards ordering from v1.   "
   ]
  },
  {
   "cell_type": "code",
   "execution_count": 55,
   "id": "423a9945",
   "metadata": {},
   "outputs": [
    {
     "name": "stdout",
     "output_type": "stream",
     "text": [
      "[0. 1. 2. 3. 4. 5. 6. 7. 8. 9.]\n",
      "[1. 3. 5. 7. 9.]\n",
      "[9. 8. 7. 6. 5. 4. 3. 2. 1. 0.]\n"
     ]
    }
   ],
   "source": [
    "v1 = np.array([0, 1, 2, 3, 4, 5, 6, 7, 8, 9], dtype=\"float\")\n",
    "print(v1)\n",
    "\n",
    "v2 = v1[1::2]\n",
    "print(v2)\n",
    "\n",
    "v3 = v1[::-1]\n",
    "print(v3)"
   ]
  },
  {
   "cell_type": "markdown",
   "id": "80edf8ce",
   "metadata": {},
   "source": [
    "EXERCISE 8.3\n",
    "\n",
    "(a) Create a two dimensional array called m1, shape=(4,5).  \n",
    "(b) Create a new array (or a view) m2 from m1, in which the elements of each row are in reverse order.  \n",
    "(c) Create a new array (or a view) m3 from m1, in which the elements of each column are in reverse order.  \n",
    "(d) Remove the first row, the last row, the first column, and the last column of m1, and create a new array (or a view) m4. \n"
   ]
  },
  {
   "cell_type": "code",
   "execution_count": 59,
   "id": "f0c3b2c9",
   "metadata": {},
   "outputs": [
    {
     "name": "stdout",
     "output_type": "stream",
     "text": [
      "m1\n",
      " [[ 0  1  2  3  4]\n",
      " [ 5  6  7  8  9]\n",
      " [10 11 12 13 14]\n",
      " [15 16 17 18 19]]\n",
      "m2\n",
      " [[ 4  3  2  1  0]\n",
      " [ 9  8  7  6  5]\n",
      " [14 13 12 11 10]\n",
      " [19 18 17 16 15]]\n",
      "m3\n",
      " [[15 16 17 18 19]\n",
      " [10 11 12 13 14]\n",
      " [ 5  6  7  8  9]\n",
      " [ 0  1  2  3  4]]\n",
      "m4\n",
      " [[ 6  7  8]\n",
      " [11 12 13]]\n"
     ]
    }
   ],
   "source": [
    "m1 = np.reshape(np.arange(20), (4,5))\n",
    "print(\"m1\\n\", m1)\n",
    "\n",
    "m2 = m1[::,::-1]\n",
    "print(\"m2\\n\", m2)\n",
    "\n",
    "m3 = m1[::-1, ::]\n",
    "print(\"m3\\n\", m3)\n",
    "\n",
    "m4 = np.delete(np.delete(m1, [0, -1],0), [0, -1], 1)\n",
    "print(\"m4\\n\", m4)"
   ]
  },
  {
   "cell_type": "code",
   "execution_count": null,
   "id": "5a6caa51",
   "metadata": {},
   "outputs": [],
   "source": []
  }
 ],
 "metadata": {
  "kernelspec": {
   "display_name": "Python 3",
   "language": "python",
   "name": "python3"
  },
  "language_info": {
   "codemirror_mode": {
    "name": "ipython",
    "version": 3
   },
   "file_extension": ".py",
   "mimetype": "text/x-python",
   "name": "python",
   "nbconvert_exporter": "python",
   "pygments_lexer": "ipython3",
   "version": "3.12.7"
  }
 },
 "nbformat": 4,
 "nbformat_minor": 5
}
